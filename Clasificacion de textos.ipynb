{
 "cells": [
  {
   "cell_type": "markdown",
   "id": "6ac65a10",
   "metadata": {},
   "source": [
    "# Modelo usando Sklearn"
   ]
  },
  {
   "cell_type": "code",
   "execution_count": 1,
   "id": "ff444b68",
   "metadata": {},
   "outputs": [],
   "source": [
    "from sklearn.feature_extraction.text import CountVectorizer\n",
    "from sklearn.model_selection import train_test_split\n",
    "from tensorflow.keras.callbacks import LambdaCallback\n",
    "from tensorflow.keras.models import Sequential\n",
    "from tensorflow.keras.layers import Dense\n",
    "from tensorflow.keras.layers import LSTM\n",
    "from tensorflow.keras.optimizers import RMSprop\n",
    "import pandas as pd\n",
    "import numpy as np\n",
    "import json\n",
    "import spacy as sp"
   ]
  },
  {
   "cell_type": "code",
   "execution_count": 2,
   "id": "017746c9",
   "metadata": {},
   "outputs": [
    {
     "data": {
      "text/html": [
       "<style>#sk-container-id-1 {color: black;background-color: white;}#sk-container-id-1 pre{padding: 0;}#sk-container-id-1 div.sk-toggleable {background-color: white;}#sk-container-id-1 label.sk-toggleable__label {cursor: pointer;display: block;width: 100%;margin-bottom: 0;padding: 0.3em;box-sizing: border-box;text-align: center;}#sk-container-id-1 label.sk-toggleable__label-arrow:before {content: \"▸\";float: left;margin-right: 0.25em;color: #696969;}#sk-container-id-1 label.sk-toggleable__label-arrow:hover:before {color: black;}#sk-container-id-1 div.sk-estimator:hover label.sk-toggleable__label-arrow:before {color: black;}#sk-container-id-1 div.sk-toggleable__content {max-height: 0;max-width: 0;overflow: hidden;text-align: left;background-color: #f0f8ff;}#sk-container-id-1 div.sk-toggleable__content pre {margin: 0.2em;color: black;border-radius: 0.25em;background-color: #f0f8ff;}#sk-container-id-1 input.sk-toggleable__control:checked~div.sk-toggleable__content {max-height: 200px;max-width: 100%;overflow: auto;}#sk-container-id-1 input.sk-toggleable__control:checked~label.sk-toggleable__label-arrow:before {content: \"▾\";}#sk-container-id-1 div.sk-estimator input.sk-toggleable__control:checked~label.sk-toggleable__label {background-color: #d4ebff;}#sk-container-id-1 div.sk-label input.sk-toggleable__control:checked~label.sk-toggleable__label {background-color: #d4ebff;}#sk-container-id-1 input.sk-hidden--visually {border: 0;clip: rect(1px 1px 1px 1px);clip: rect(1px, 1px, 1px, 1px);height: 1px;margin: -1px;overflow: hidden;padding: 0;position: absolute;width: 1px;}#sk-container-id-1 div.sk-estimator {font-family: monospace;background-color: #f0f8ff;border: 1px dotted black;border-radius: 0.25em;box-sizing: border-box;margin-bottom: 0.5em;}#sk-container-id-1 div.sk-estimator:hover {background-color: #d4ebff;}#sk-container-id-1 div.sk-parallel-item::after {content: \"\";width: 100%;border-bottom: 1px solid gray;flex-grow: 1;}#sk-container-id-1 div.sk-label:hover label.sk-toggleable__label {background-color: #d4ebff;}#sk-container-id-1 div.sk-serial::before {content: \"\";position: absolute;border-left: 1px solid gray;box-sizing: border-box;top: 0;bottom: 0;left: 50%;z-index: 0;}#sk-container-id-1 div.sk-serial {display: flex;flex-direction: column;align-items: center;background-color: white;padding-right: 0.2em;padding-left: 0.2em;position: relative;}#sk-container-id-1 div.sk-item {position: relative;z-index: 1;}#sk-container-id-1 div.sk-parallel {display: flex;align-items: stretch;justify-content: center;background-color: white;position: relative;}#sk-container-id-1 div.sk-item::before, #sk-container-id-1 div.sk-parallel-item::before {content: \"\";position: absolute;border-left: 1px solid gray;box-sizing: border-box;top: 0;bottom: 0;left: 50%;z-index: -1;}#sk-container-id-1 div.sk-parallel-item {display: flex;flex-direction: column;z-index: 1;position: relative;background-color: white;}#sk-container-id-1 div.sk-parallel-item:first-child::after {align-self: flex-end;width: 50%;}#sk-container-id-1 div.sk-parallel-item:last-child::after {align-self: flex-start;width: 50%;}#sk-container-id-1 div.sk-parallel-item:only-child::after {width: 0;}#sk-container-id-1 div.sk-dashed-wrapped {border: 1px dashed gray;margin: 0 0.4em 0.5em 0.4em;box-sizing: border-box;padding-bottom: 0.4em;background-color: white;}#sk-container-id-1 div.sk-label label {font-family: monospace;font-weight: bold;display: inline-block;line-height: 1.2em;}#sk-container-id-1 div.sk-label-container {text-align: center;}#sk-container-id-1 div.sk-container {/* jupyter's `normalize.less` sets `[hidden] { display: none; }` but bootstrap.min.css set `[hidden] { display: none !important; }` so we also need the `!important` here to be able to override the default hidden behavior on the sphinx rendered scikit-learn.org. See: https://github.com/scikit-learn/scikit-learn/issues/21755 */display: inline-block !important;position: relative;}#sk-container-id-1 div.sk-text-repr-fallback {display: none;}</style><div id=\"sk-container-id-1\" class=\"sk-top-container\"><div class=\"sk-text-repr-fallback\"><pre>CountVectorizer(lowercase=False, min_df=0)</pre><b>In a Jupyter environment, please rerun this cell to show the HTML representation or trust the notebook. <br />On GitHub, the HTML representation is unable to render, please try loading this page with nbviewer.org.</b></div><div class=\"sk-container\" hidden><div class=\"sk-item\"><div class=\"sk-estimator sk-toggleable\"><input class=\"sk-toggleable__control sk-hidden--visually\" id=\"sk-estimator-id-1\" type=\"checkbox\" checked><label for=\"sk-estimator-id-1\" class=\"sk-toggleable__label sk-toggleable__label-arrow\">CountVectorizer</label><div class=\"sk-toggleable__content\"><pre>CountVectorizer(lowercase=False, min_df=0)</pre></div></div></div></div></div>"
      ],
      "text/plain": [
       "CountVectorizer(lowercase=False, min_df=0)"
      ]
     },
     "execution_count": 2,
     "metadata": {},
     "output_type": "execute_result"
    }
   ],
   "source": [
    "df = pd.read_json(\"Data/train-esp.json\")\n",
    "nlp = sp.load(\"es_core_news_md\")\n",
    "vectorizer = CountVectorizer(min_df=0, lowercase=False) \n",
    "vectorizer.fit(nlp.vocab.strings) "
   ]
  },
  {
   "cell_type": "code",
   "execution_count": 3,
   "id": "31de142d",
   "metadata": {},
   "outputs": [
    {
     "data": {
      "text/html": [
       "<div>\n",
       "<style scoped>\n",
       "    .dataframe tbody tr th:only-of-type {\n",
       "        vertical-align: middle;\n",
       "    }\n",
       "\n",
       "    .dataframe tbody tr th {\n",
       "        vertical-align: top;\n",
       "    }\n",
       "\n",
       "    .dataframe thead th {\n",
       "        text-align: right;\n",
       "    }\n",
       "</style>\n",
       "<table border=\"1\" class=\"dataframe\">\n",
       "  <thead>\n",
       "    <tr style=\"text-align: right;\">\n",
       "      <th></th>\n",
       "      <th>title</th>\n",
       "      <th>ingredients</th>\n",
       "      <th>instructions</th>\n",
       "    </tr>\n",
       "  </thead>\n",
       "  <tbody>\n",
       "    <tr>\n",
       "      <th>0</th>\n",
       "      <td>Tarta de queso de higos confitados, avellanas ...</td>\n",
       "      <td>1 1/2 tazas de Oporto leonado, 1 taza de higos...</td>\n",
       "      <td>Para los higos y la corteza: Combinar el Oport...</td>\n",
       "    </tr>\n",
       "    <tr>\n",
       "      <th>1</th>\n",
       "      <td>Bisque de chirivía con jengibre</td>\n",
       "      <td>3 cucharadas de mantequilla, 2 1/2 tazas de pu...</td>\n",
       "      <td>Derretir la mantequilla en una olla grande a f...</td>\n",
       "    </tr>\n",
       "    <tr>\n",
       "      <th>2</th>\n",
       "      <td>Posole de pavo</td>\n",
       "      <td>2 chiles anchos o pasilla secos, sin semillas,...</td>\n",
       "      <td>Retire las semillas de 2 chiles anchos o pasil...</td>\n",
       "    </tr>\n",
       "    <tr>\n",
       "      <th>3</th>\n",
       "      <td>Rabe de brócoli con bulgur y nueces</td>\n",
       "      <td>1 taza de bulgur de grano medio*., 2 1/2 tazas...</td>\n",
       "      <td>Poner el bulgur en un bol mediano y verter 2 1...</td>\n",
       "    </tr>\n",
       "    <tr>\n",
       "      <th>4</th>\n",
       "      <td>Lechuga Frisée y Bibb con rábanos y cebollas d...</td>\n",
       "      <td>1/4 de taza de yogur natural de leche entera, ...</td>\n",
       "      <td>En un bol pequeño, bata el yogur, la mayonesa,...</td>\n",
       "    </tr>\n",
       "    <tr>\n",
       "      <th>...</th>\n",
       "      <td>...</td>\n",
       "      <td>...</td>\n",
       "      <td>...</td>\n",
       "    </tr>\n",
       "    <tr>\n",
       "      <th>9108</th>\n",
       "      <td>Natillas de vainilla con especias y Streusel d...</td>\n",
       "      <td>1 cucharadita de gelatina sin sabor, 1 1/2 taz...</td>\n",
       "      <td>Natillas: Poner 1 cucharada de agua en un bol ...</td>\n",
       "    </tr>\n",
       "    <tr>\n",
       "      <th>9109</th>\n",
       "      <td>Sno-Cones de fruta fresca</td>\n",
       "      <td>1 libra de fresas frescas (aproximadamente 1 c...</td>\n",
       "      <td>Triturar las fresas, las frambuesas y el azúca...</td>\n",
       "    </tr>\n",
       "    <tr>\n",
       "      <th>9110</th>\n",
       "      <td>Orzo con jamón y queso de cabra</td>\n",
       "      <td>1 libra de orzo (pasta con forma de arroz), 1/...</td>\n",
       "      <td>Precalentar la parrilla y engrasar ligeramente...</td>\n",
       "    </tr>\n",
       "    <tr>\n",
       "      <th>9111</th>\n",
       "      <td>Spiedini de cordero y romero</td>\n",
       "      <td>5 cucharadas de zumo de limón fresco, 1/4 de t...</td>\n",
       "      <td>Preparar la barbacoa (a fuego medio-alto). Bat...</td>\n",
       "    </tr>\n",
       "    <tr>\n",
       "      <th>9112</th>\n",
       "      <td>Alcachofas al vapor con mantequilla de ajo</td>\n",
       "      <td>4 alcachofas grandes (aproximadamente 2 libras...</td>\n",
       "      <td>Recorte los tallos de 4 alcachofas grandes (ap...</td>\n",
       "    </tr>\n",
       "  </tbody>\n",
       "</table>\n",
       "<p>9113 rows × 3 columns</p>\n",
       "</div>"
      ],
      "text/plain": [
       "                                                  title  \\\n",
       "0     Tarta de queso de higos confitados, avellanas ...   \n",
       "1                      Bisque de chirivía con jengibre    \n",
       "2                                       Posole de pavo    \n",
       "3                  Rabe de brócoli con bulgur y nueces    \n",
       "4     Lechuga Frisée y Bibb con rábanos y cebollas d...   \n",
       "...                                                 ...   \n",
       "9108  Natillas de vainilla con especias y Streusel d...   \n",
       "9109                         Sno-Cones de fruta fresca    \n",
       "9110                   Orzo con jamón y queso de cabra    \n",
       "9111                      Spiedini de cordero y romero    \n",
       "9112        Alcachofas al vapor con mantequilla de ajo    \n",
       "\n",
       "                                            ingredients  \\\n",
       "0     1 1/2 tazas de Oporto leonado, 1 taza de higos...   \n",
       "1     3 cucharadas de mantequilla, 2 1/2 tazas de pu...   \n",
       "2     2 chiles anchos o pasilla secos, sin semillas,...   \n",
       "3     1 taza de bulgur de grano medio*., 2 1/2 tazas...   \n",
       "4     1/4 de taza de yogur natural de leche entera, ...   \n",
       "...                                                 ...   \n",
       "9108  1 cucharadita de gelatina sin sabor, 1 1/2 taz...   \n",
       "9109  1 libra de fresas frescas (aproximadamente 1 c...   \n",
       "9110  1 libra de orzo (pasta con forma de arroz), 1/...   \n",
       "9111  5 cucharadas de zumo de limón fresco, 1/4 de t...   \n",
       "9112  4 alcachofas grandes (aproximadamente 2 libras...   \n",
       "\n",
       "                                           instructions  \n",
       "0     Para los higos y la corteza: Combinar el Oport...  \n",
       "1     Derretir la mantequilla en una olla grande a f...  \n",
       "2     Retire las semillas de 2 chiles anchos o pasil...  \n",
       "3     Poner el bulgur en un bol mediano y verter 2 1...  \n",
       "4     En un bol pequeño, bata el yogur, la mayonesa,...  \n",
       "...                                                 ...  \n",
       "9108  Natillas: Poner 1 cucharada de agua en un bol ...  \n",
       "9109  Triturar las fresas, las frambuesas y el azúca...  \n",
       "9110  Precalentar la parrilla y engrasar ligeramente...  \n",
       "9111  Preparar la barbacoa (a fuego medio-alto). Bat...  \n",
       "9112  Recorte los tallos de 4 alcachofas grandes (ap...  \n",
       "\n",
       "[9113 rows x 3 columns]"
      ]
     },
     "execution_count": 3,
     "metadata": {},
     "output_type": "execute_result"
    }
   ],
   "source": [
    "df"
   ]
  },
  {
   "cell_type": "code",
   "execution_count": 4,
   "id": "26cbab5e",
   "metadata": {},
   "outputs": [
    {
     "name": "stdout",
     "output_type": "stream",
     "text": [
      "Processing the Intents.....\n"
     ]
    },
    {
     "data": {
      "text/plain": [
       "{'intents': [{'tag': 'greeting',\n",
       "   'patterns': ['Hola', 'Como estás', 'Hay alquien ?', 'Que tal', 'Buen día'],\n",
       "   'responses': ['Hola, soy Chefbot'],\n",
       "   'context_set': ''},\n",
       "  {'tag': 'goodbye',\n",
       "   'patterns': ['Adiós', 'Nos vemos', 'Me voy'],\n",
       "   'responses': ['Adiós', 'Adios  ! Vuelva pronto .']},\n",
       "  {'tag': 'thanks',\n",
       "   'patterns': ['Gracias',\n",
       "    'Muchas gracias',\n",
       "    'Es muy útil',\n",
       "    'Gracias por ayudar'],\n",
       "   'responses': ['Feliz de ayudar !', 'De nada!', 'Para eso estoy']},\n",
       "  {'tag': 'who',\n",
       "   'patterns': ['Quien eres ?', 'A que te dedicas', 'Que haces'],\n",
       "   'responses': ['Soy un chatbot especializado en cocina',\n",
       "    'Soy un chatbot para hablar de recetas de cocina']}]}"
      ]
     },
     "execution_count": 4,
     "metadata": {},
     "output_type": "execute_result"
    }
   ],
   "source": [
    "print(\"Processing the Intents.....\")\n",
    "with open('Data/intents.json') as json_data:\n",
    "    intents = json.load(json_data)\n",
    "intents"
   ]
  },
  {
   "cell_type": "code",
   "execution_count": null,
   "id": "d3f01b9f",
   "metadata": {},
   "outputs": [],
   "source": []
  },
  {
   "cell_type": "markdown",
   "id": "b8e650a6",
   "metadata": {},
   "source": [
    "# Modelo para los intents de cocina y varios con Sklearn"
   ]
  },
  {
   "cell_type": "code",
   "execution_count": 5,
   "id": "055dea57",
   "metadata": {},
   "outputs": [],
   "source": [
    "def cook_others():\n",
    "    dataset = pd.read_csv('Data/intents_cook_others.csv')\n",
    "\n",
    "    sentences = dataset['text'].values\n",
    "    y = dataset['label'].values\n",
    "    sentences_train, sentences_test, y_train, y_test = train_test_split(\n",
    "        sentences, y, test_size=0.20, random_state=1000)\n",
    "    x_train = vectorizer.transform(sentences_train)\n",
    "    x_test = vectorizer.transform(sentences_test)\n",
    "\n",
    "    from sklearn.linear_model import LogisticRegression\n",
    "\n",
    "    classifier = LogisticRegression()\n",
    "    classifier.fit(x_train, y_train) \n",
    "    \n",
    "    score = classifier.score(x_test, y_test)\n",
    "    print('Score cook and others {:.4f}'.format(score))\n",
    "    \n",
    "    return classifier"
   ]
  },
  {
   "cell_type": "markdown",
   "id": "b7771899",
   "metadata": {},
   "source": [
    "# Modelo para los intents de varios"
   ]
  },
  {
   "cell_type": "code",
   "execution_count": 6,
   "id": "4f9b8ab8",
   "metadata": {},
   "outputs": [],
   "source": [
    "def others():\n",
    "    x = []\n",
    "    y_train = []\n",
    "    for i in range(4):\n",
    "    #     print(intents[\"intents\"][i])\n",
    "        label = intents[\"intents\"][i][\"tag\"]\n",
    "        for j in intents[\"intents\"][i][\"patterns\"]:\n",
    "            x.append(j)\n",
    "            y_train.append(label)\n",
    "    x_train = vectorizer.transform(x)\n",
    "\n",
    "    from sklearn.linear_model import LogisticRegression\n",
    "\n",
    "    classifier = LogisticRegression()\n",
    "    classifier.fit(x_train, y_train) \n",
    "\n",
    "    return classifier"
   ]
  },
  {
   "cell_type": "markdown",
   "id": "6dbaef11",
   "metadata": {},
   "source": [
    "# Modelo para los intents de cocina"
   ]
  },
  {
   "cell_type": "code",
   "execution_count": 7,
   "id": "f2723844",
   "metadata": {},
   "outputs": [],
   "source": [
    "def cook():\n",
    "    df = pd.read_csv('Data/intents_cook.csv') \n",
    "\n",
    "    sentences = df['text'].values\n",
    "    y = df['label'].values\n",
    "    sentences_train, sentences_test, y_train, y_test = train_test_split(\n",
    "        sentences, y, test_size=0.20, random_state=1000)\n",
    "    x_train = vectorizer.transform(sentences_train)\n",
    "    x_test = vectorizer.transform(sentences_test)\n",
    "\n",
    "    from sklearn.linear_model import LogisticRegression\n",
    "    classifier = LogisticRegression()\n",
    "    classifier.fit(x_train, y_train)\n",
    "    \n",
    "    score = classifier.score(x_test, y_test)\n",
    "    print('Score Cook{:.4f}'.format(score))\n",
    "    \n",
    "    return classifier"
   ]
  },
  {
   "cell_type": "markdown",
   "id": "8893f7d8",
   "metadata": {},
   "source": [
    "## Crear los modelos"
   ]
  },
  {
   "cell_type": "code",
   "execution_count": 8,
   "id": "835ec7d9",
   "metadata": {},
   "outputs": [
    {
     "name": "stdout",
     "output_type": "stream",
     "text": [
      "Score cook and others 0.9992\n"
     ]
    },
    {
     "name": "stderr",
     "output_type": "stream",
     "text": [
      "/home/david/bin/anaconda3/lib/python3.8/site-packages/sklearn/linear_model/_logistic.py:444: ConvergenceWarning: lbfgs failed to converge (status=1):\n",
      "STOP: TOTAL NO. of ITERATIONS REACHED LIMIT.\n",
      "\n",
      "Increase the number of iterations (max_iter) or scale the data as shown in:\n",
      "    https://scikit-learn.org/stable/modules/preprocessing.html\n",
      "Please also refer to the documentation for alternative solver options:\n",
      "    https://scikit-learn.org/stable/modules/linear_model.html#logistic-regression\n",
      "  n_iter_i = _check_optimize_result(\n"
     ]
    },
    {
     "name": "stdout",
     "output_type": "stream",
     "text": [
      "Score Cook0.9888\n"
     ]
    }
   ],
   "source": [
    "classifier_cook_other = cook_others()\n",
    "classifier_cook = cook()\n",
    "classifiers_others = others()"
   ]
  },
  {
   "cell_type": "code",
   "execution_count": 9,
   "id": "511718da",
   "metadata": {},
   "outputs": [],
   "source": [
    "def search(text, first, second):\n",
    "    ma = -1000000\n",
    "    sol = \"\"\n",
    "    doc = nlp(text)\n",
    "    for i in range(df.shape[0]):\n",
    "        text = df[first][i]\n",
    "        text = str(text) \n",
    "        text = nlp(text)\n",
    "        value = doc.similarity(text)\n",
    "        if (value > ma):\n",
    "            ma = value\n",
    "            sol = df[second][i]\n",
    "    return sol\n",
    "        \n",
    "def response_others(tag):\n",
    "    for i in range(4):\n",
    "    #     print(intents[\"intents\"][i])\n",
    "        label = intents[\"intents\"][i][\"tag\"]\n",
    "        if label == tag:\n",
    "            return intents[\"intents\"][i][\"responses\"][0]"
   ]
  },
  {
   "cell_type": "markdown",
   "id": "640e9850",
   "metadata": {},
   "source": [
    "# Modelo para devolver una respuesta usando Spacy"
   ]
  },
  {
   "cell_type": "code",
   "execution_count": 10,
   "id": "79892944",
   "metadata": {},
   "outputs": [],
   "source": [
    "def response(text):\n",
    "    text_vectorize = vectorizer.transform([text])\n",
    "    doc = nlp(text)\n",
    "\n",
    "    cook_others = classifier_cook_other.predict(text_vectorize)\n",
    "    response = \"\"\n",
    "\n",
    "    if cook_others[0] == \"cook\":\n",
    "        response = \"hola\"\n",
    "        cook_intents = classifier_cook.predict(text_vectorize)\n",
    "\n",
    "#         if cook_intents == \"instructions\":\n",
    "#             return search(text, \"ingredients\", \"instructions\")\n",
    "\n",
    "#         if cook_intents == \"title\":\n",
    "#             return search(text, \"ingredients\", \"title\")\n",
    "\n",
    "#         if cook_intents == \"title_instructions\":\n",
    "#             return search(text, \"title\", \"instructions\")\n",
    "        return response;\n",
    "\n",
    "    else:\n",
    "        others = classifiers_others.predict(text_vectorize)\n",
    "        return response_others(others)"
   ]
  },
  {
   "cell_type": "code",
   "execution_count": 16,
   "id": "61396ad5",
   "metadata": {},
   "outputs": [
    {
     "data": {
      "text/plain": [
       "'hola'"
      ]
     },
     "execution_count": 16,
     "metadata": {},
     "output_type": "execute_result"
    }
   ],
   "source": [
    "response(\"S Tengo aceite, que puedo hacer\")"
   ]
  },
  {
   "cell_type": "code",
   "execution_count": 108,
   "id": "443f610b",
   "metadata": {},
   "outputs": [
    {
     "data": {
      "text/plain": [
       "1.002"
      ]
     },
     "execution_count": 108,
     "metadata": {},
     "output_type": "execute_result"
    }
   ],
   "source": [
    "d = 1\n",
    "for i in range(2):\n",
    "    d += 0.001\n",
    "    \n",
    "1 +(.100e-2 + .1e-2)"
   ]
  },
  {
   "cell_type": "code",
   "execution_count": 105,
   "id": "63b7b8bf",
   "metadata": {},
   "outputs": [
    {
     "data": {
      "text/plain": [
       "1.002"
      ]
     },
     "execution_count": 105,
     "metadata": {},
     "output_type": "execute_result"
    }
   ],
   "source": [
    "d = 0\n",
    "for i in range(2):\n",
    "    d += 0.001 h              \n",
    "d = d + 1\n",
    "\n",
    "(0.001 + 0.001) + 1"
   ]
  },
  {
   "cell_type": "code",
   "execution_count": 65,
   "id": "6b55d30d",
   "metadata": {},
   "outputs": [
    {
     "name": "stdout",
     "output_type": "stream",
     "text": [
      "0.40000000000000002220446049250313080847263336181640625\n",
      "6\n",
      "2.4000000000000003552713678800500929355621337890625\n",
      "2.4000000000000004\n"
     ]
    }
   ],
   "source": [
    "print(dc(0.4))\n",
    "print(dc(6))\n",
    "print(dc(0.4*6))\n",
    "print (0.4*6)"
   ]
  }
 ],
 "metadata": {
  "kernelspec": {
   "display_name": "Python 3",
   "language": "python",
   "name": "python3"
  },
  "language_info": {
   "codemirror_mode": {
    "name": "ipython",
    "version": 3
   },
   "file_extension": ".py",
   "mimetype": "text/x-python",
   "name": "python",
   "nbconvert_exporter": "python",
   "pygments_lexer": "ipython3",
   "version": "3.8.8"
  }
 },
 "nbformat": 4,
 "nbformat_minor": 5
}
