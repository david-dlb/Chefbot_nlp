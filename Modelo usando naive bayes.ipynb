{
 "cells": [
  {
   "cell_type": "code",
   "execution_count": 1,
   "id": "a7343bf5",
   "metadata": {},
   "outputs": [],
   "source": [
    "from sklearn.model_selection import train_test_split\n",
    "from sklearn.feature_extraction.text import CountVectorizer\n",
    "from sklearn.naive_bayes import MultinomialNB\n",
    "import pandas as pd\n",
    "import json\n",
    "import spacy as sp\n",
    "import random\n",
    "\n",
    "nlp = sp.load(\"es_core_news_md\")"
   ]
  },
  {
   "cell_type": "code",
   "execution_count": 2,
   "id": "4acdeb57",
   "metadata": {},
   "outputs": [
    {
     "name": "stdout",
     "output_type": "stream",
     "text": [
      "Processing the Intents.....\n"
     ]
    },
    {
     "data": {
      "text/html": [
       "<div>\n",
       "<style scoped>\n",
       "    .dataframe tbody tr th:only-of-type {\n",
       "        vertical-align: middle;\n",
       "    }\n",
       "\n",
       "    .dataframe tbody tr th {\n",
       "        vertical-align: top;\n",
       "    }\n",
       "\n",
       "    .dataframe thead th {\n",
       "        text-align: right;\n",
       "    }\n",
       "</style>\n",
       "<table border=\"1\" class=\"dataframe\">\n",
       "  <thead>\n",
       "    <tr style=\"text-align: right;\">\n",
       "      <th></th>\n",
       "      <th>Unnamed: 0</th>\n",
       "      <th>text</th>\n",
       "      <th>label</th>\n",
       "    </tr>\n",
       "  </thead>\n",
       "  <tbody>\n",
       "    <tr>\n",
       "      <th>0</th>\n",
       "      <td>0</td>\n",
       "      <td>¿Cómo se hace la receta de las galletas de avena?</td>\n",
       "      <td>1</td>\n",
       "    </tr>\n",
       "    <tr>\n",
       "      <th>1</th>\n",
       "      <td>1</td>\n",
       "      <td>¿Cuál es la mejor manera de cocinar una pizza ...</td>\n",
       "      <td>1</td>\n",
       "    </tr>\n",
       "    <tr>\n",
       "      <th>2</th>\n",
       "      <td>2</td>\n",
       "      <td>¿Cómo puedo hacer salsa de tomate casera?</td>\n",
       "      <td>1</td>\n",
       "    </tr>\n",
       "    <tr>\n",
       "      <th>3</th>\n",
       "      <td>3</td>\n",
       "      <td>¿Tienes una buena receta para hacer sopa de po...</td>\n",
       "      <td>1</td>\n",
       "    </tr>\n",
       "    <tr>\n",
       "      <th>4</th>\n",
       "      <td>4</td>\n",
       "      <td>¿Cómo se hace la masa para los tacos mexicanos?</td>\n",
       "      <td>1</td>\n",
       "    </tr>\n",
       "    <tr>\n",
       "      <th>...</th>\n",
       "      <td>...</td>\n",
       "      <td>...</td>\n",
       "      <td>...</td>\n",
       "    </tr>\n",
       "    <tr>\n",
       "      <th>105</th>\n",
       "      <td>105</td>\n",
       "      <td>¿Cuál es el nombre de esa receta que lleva arr...</td>\n",
       "      <td>0</td>\n",
       "    </tr>\n",
       "    <tr>\n",
       "      <th>106</th>\n",
       "      <td>106</td>\n",
       "      <td>¿Cómo se llama esa receta que lleva espaguetis...</td>\n",
       "      <td>0</td>\n",
       "    </tr>\n",
       "    <tr>\n",
       "      <th>107</th>\n",
       "      <td>107</td>\n",
       "      <td>¿Cuál es el nombre de esa receta que lleva sal...</td>\n",
       "      <td>0</td>\n",
       "    </tr>\n",
       "    <tr>\n",
       "      <th>108</th>\n",
       "      <td>108</td>\n",
       "      <td>¿Cómo se llama esa receta que lleva pollo, jen...</td>\n",
       "      <td>0</td>\n",
       "    </tr>\n",
       "    <tr>\n",
       "      <th>109</th>\n",
       "      <td>109</td>\n",
       "      <td>¿Cuál es el nombre de esa receta que lleva que...</td>\n",
       "      <td>0</td>\n",
       "    </tr>\n",
       "  </tbody>\n",
       "</table>\n",
       "<p>110 rows × 3 columns</p>\n",
       "</div>"
      ],
      "text/plain": [
       "     Unnamed: 0                                               text  label\n",
       "0             0  ¿Cómo se hace la receta de las galletas de avena?      1\n",
       "1             1  ¿Cuál es la mejor manera de cocinar una pizza ...      1\n",
       "2             2          ¿Cómo puedo hacer salsa de tomate casera?      1\n",
       "3             3  ¿Tienes una buena receta para hacer sopa de po...      1\n",
       "4             4    ¿Cómo se hace la masa para los tacos mexicanos?      1\n",
       "..          ...                                                ...    ...\n",
       "105         105  ¿Cuál es el nombre de esa receta que lleva arr...      0\n",
       "106         106  ¿Cómo se llama esa receta que lleva espaguetis...      0\n",
       "107         107  ¿Cuál es el nombre de esa receta que lleva sal...      0\n",
       "108         108  ¿Cómo se llama esa receta que lleva pollo, jen...      0\n",
       "109         109  ¿Cuál es el nombre de esa receta que lleva que...      0\n",
       "\n",
       "[110 rows x 3 columns]"
      ]
     },
     "execution_count": 2,
     "metadata": {},
     "output_type": "execute_result"
    }
   ],
   "source": [
    "df = pd.read_csv(\"Data/last-cook.csv\")\n",
    "df_cook = pd.read_csv(\"Data/intents_cook.csv\")\n",
    "df_cook_others = pd.read_csv('Data/intents_cook_others.csv')\n",
    "\n",
    "print(\"Processing the Intents.....\")\n",
    "with open('Data/intents.json') as json_data:\n",
    "    intents = json.load(json_data)\n",
    "\n",
    "df_cook_others[\"label\"] = df_cook_others.label.map({ 'cook': 1, 'others': 0})\n",
    "df_cook[\"label\"] = df_cook.label.map({ 'name_to_prepare': 1, 'ingredient_to_name': 0})\n",
    "df_cook"
   ]
  },
  {
   "cell_type": "code",
   "execution_count": 3,
   "id": "2d97ff2a",
   "metadata": {},
   "outputs": [],
   "source": [
    "# from sklearn.metrics import accuracy_score, precision_score, recall_score, f1_score\n",
    "# print('Accuracy score: ', format(accuracy_score(y_test, predictions)))\n",
    "\n",
    "# print('Precision score: ', format(precision_score(y_test, predictions)))\n",
    "# print('Recall score: ', format(recall_score(y_test, predictions)))\n",
    "# print('F1 score: ', format(f1_score(y_test, predictions)))"
   ]
  },
  {
   "cell_type": "markdown",
   "id": "20267c90",
   "metadata": {},
   "source": [
    "### clasificar si me estas hablando de cocina o no"
   ]
  },
  {
   "cell_type": "code",
   "execution_count": 4,
   "id": "bf3848f1",
   "metadata": {},
   "outputs": [],
   "source": [
    "def cook_others(text):\n",
    "    # Dividir el conjunto de datos de entrenamiento y test\n",
    "    X_train, X_test, y_train, y_test = train_test_split(df_cook_others['text'], df_cook_others['label'], random_state=1)\n",
    "    \n",
    "    count_vector = CountVectorizer()\n",
    "    \n",
    "    training_data = count_vector.fit_transform(X_train) \n",
    "    \n",
    "    testing_data = count_vector.transform(X_test)\n",
    "    text_data = count_vector.transform([text])\n",
    "\n",
    "    naive_bayes = MultinomialNB()\n",
    "    naive_bayes.fit(training_data, y_train)\n",
    "    \n",
    "    return naive_bayes.predict(text_data)"
   ]
  },
  {
   "cell_type": "markdown",
   "id": "6e529901",
   "metadata": {},
   "source": [
    "### clasificar que tipo de pregunta de cocina"
   ]
  },
  {
   "cell_type": "code",
   "execution_count": 5,
   "id": "d88c2dfe",
   "metadata": {},
   "outputs": [],
   "source": [
    "def cook(text):\n",
    "    # Dividir el conjunto de datos de entrenamiento y test\n",
    "    X_train, X_test, y_train, y_test = train_test_split(df_cook['text'], df_cook['label'], random_state=1)\n",
    "    \n",
    "    count_vector = CountVectorizer()\n",
    "    \n",
    "    training_data = count_vector.fit_transform(X_train)\n",
    "    \n",
    "    testing_data = count_vector.transform(X_test)\n",
    "    text_data = count_vector.transform([text])\n",
    "\n",
    "    naive_bayes = MultinomialNB()\n",
    "    naive_bayes.fit(training_data, y_train)\n",
    "    \n",
    "    return naive_bayes.predict(text_data)"
   ]
  },
  {
   "cell_type": "markdown",
   "id": "949f291b",
   "metadata": {},
   "source": [
    "### Clasificar en que tipo de pregunta varia"
   ]
  },
  {
   "cell_type": "code",
   "execution_count": 6,
   "id": "16358cd4",
   "metadata": {},
   "outputs": [],
   "source": [
    "def others(text):\n",
    "    x = []\n",
    "    y_train = []\n",
    "    for i in range(4):\n",
    "    #     print(intents[\"intents\"][i])\n",
    "        label = intents[\"intents\"][i][\"tag\"]\n",
    "        for j in intents[\"intents\"][i][\"patterns\"]:\n",
    "            x.append(j)\n",
    "            y_train.append(label)\n",
    "            \n",
    "    # Instantiate the CountVectorizer method\n",
    "    count_vector = CountVectorizer()\n",
    "    # Fit the training data and then return the matrix\n",
    "    training_data = count_vector.fit_transform(x)\n",
    "    text_data = count_vector.transform([text])\n",
    "\n",
    "    naive_bayes = MultinomialNB()\n",
    "    naive_bayes.fit(training_data, y_train)\n",
    "    \n",
    "    return naive_bayes.predict(text_data)"
   ]
  },
  {
   "cell_type": "markdown",
   "id": "22d8ef39",
   "metadata": {},
   "source": [
    "### Modelos que devuelven la respuesta"
   ]
  },
  {
   "cell_type": "code",
   "execution_count": 7,
   "id": "3951c38d",
   "metadata": {},
   "outputs": [],
   "source": [
    "# devolver una respuesta de cocina segun el intent\n",
    "def search(text, first, second):\n",
    "    ma = -1000000\n",
    "    sol = \"\"\n",
    "    doc = nlp(text)\n",
    "    for i in range(df.shape[0]): \n",
    "        aux = nlp(str(df[first][i]))\n",
    "        value = doc.similarity(aux)\n",
    "        if (value > ma):\n",
    "            ma = value\n",
    "            sol = df[second][i]\n",
    "    return sol\n",
    "  \n",
    "# Devolver una respuesta varia aleatoria segun el intent\n",
    "def response_others(tag):\n",
    "    for i in range(4):\n",
    "    #     print(intents[\"intents\"][i])\n",
    "        label = intents[\"intents\"][i][\"tag\"]\n",
    "        if label == tag:\n",
    "            rand = int(random.uniform(0,len(intents[\"intents\"][i][\"responses\"])))\n",
    "            print(rand)\n",
    "            return intents[\"intents\"][i][\"responses\"][rand]"
   ]
  },
  {
   "cell_type": "markdown",
   "id": "c5bcab2d",
   "metadata": {},
   "source": [
    "### Obtener la respuesta"
   ]
  },
  {
   "cell_type": "code",
   "execution_count": 8,
   "id": "c4385a78",
   "metadata": {},
   "outputs": [
    {
     "data": {
      "text/plain": [
       "'Pescado en lámina con cebollas dulces, tomates y mojo verde '"
      ]
     },
     "execution_count": 8,
     "metadata": {},
     "output_type": "execute_result"
    }
   ],
   "source": [
    "def get_response(text):\n",
    "    firstIntent = cook_others(text)[0]\n",
    "    if firstIntent == 0:\n",
    "        intentOthers = others(text)[0]\n",
    "        return response_others(intentOthers)\n",
    "    else:\n",
    "        cook_intents = cook(text) \n",
    "        if cook_intents == 0:\n",
    "            return search(text, \"ingredients\", \"title\")\n",
    "\n",
    "        if cook_intents == 1:\n",
    "            return search(text, \"title\", \"instructions\")\n",
    "    return firstIntent\n",
    "\n",
    "get_response(\"¿Cuál es el nombre de esa receta que lleva camarones, arroz y especias?\")"
   ]
  },
  {
   "cell_type": "code",
   "execution_count": null,
   "id": "497f6ac2",
   "metadata": {},
   "outputs": [],
   "source": []
  },
  {
   "cell_type": "code",
   "execution_count": null,
   "id": "d2e0849b",
   "metadata": {},
   "outputs": [],
   "source": []
  }
 ],
 "metadata": {
  "kernelspec": {
   "display_name": "Python 3",
   "language": "python",
   "name": "python3"
  },
  "language_info": {
   "codemirror_mode": {
    "name": "ipython",
    "version": 3
   },
   "file_extension": ".py",
   "mimetype": "text/x-python",
   "name": "python",
   "nbconvert_exporter": "python",
   "pygments_lexer": "ipython3",
   "version": "3.8.8"
  },
  "vscode": {
   "interpreter": {
    "hash": "ab3c9598846bb01a90bc4fb3fb70919349b21f3aac0df0f83a83137ce8a42a56"
   }
  }
 },
 "nbformat": 4,
 "nbformat_minor": 5
}
