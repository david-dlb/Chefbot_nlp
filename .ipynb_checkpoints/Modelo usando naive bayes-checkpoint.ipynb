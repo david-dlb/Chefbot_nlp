{
 "cells": [
  {
   "cell_type": "code",
   "execution_count": 4,
   "id": "a7343bf5",
   "metadata": {},
   "outputs": [],
   "source": [
    "from sklearn.model_selection import train_test_split\n",
    "from sklearn.feature_extraction.text import CountVectorizer\n",
    "from sklearn.naive_bayes import MultinomialNB\n",
    "import pandas as pd\n",
    "import json\n",
    "import spacy as sp\n",
    "import random\n",
    "\n",
    "nlp = sp.load(\"es_core_news_md\")"
   ]
  },
  {
   "cell_type": "code",
   "execution_count": 5,
   "id": "4acdeb57",
   "metadata": {},
   "outputs": [
    {
     "name": "stdout",
     "output_type": "stream",
     "text": [
      "Processing the Intents.....\n"
     ]
    },
    {
     "data": {
      "text/html": [
       "<div>\n",
       "<style scoped>\n",
       "    .dataframe tbody tr th:only-of-type {\n",
       "        vertical-align: middle;\n",
       "    }\n",
       "\n",
       "    .dataframe tbody tr th {\n",
       "        vertical-align: top;\n",
       "    }\n",
       "\n",
       "    .dataframe thead th {\n",
       "        text-align: right;\n",
       "    }\n",
       "</style>\n",
       "<table border=\"1\" class=\"dataframe\">\n",
       "  <thead>\n",
       "    <tr style=\"text-align: right;\">\n",
       "      <th></th>\n",
       "      <th>Unnamed: 0</th>\n",
       "      <th>text</th>\n",
       "      <th>label</th>\n",
       "    </tr>\n",
       "  </thead>\n",
       "  <tbody>\n",
       "    <tr>\n",
       "      <th>0</th>\n",
       "      <td>0</td>\n",
       "      <td>¿Qué tipo de arroz se necesita para hacer arro...</td>\n",
       "      <td>1</td>\n",
       "    </tr>\n",
       "    <tr>\n",
       "      <th>1</th>\n",
       "      <td>1</td>\n",
       "      <td>¿Cómo se mide el arroz y el agua para hacer ar...</td>\n",
       "      <td>1</td>\n",
       "    </tr>\n",
       "    <tr>\n",
       "      <th>2</th>\n",
       "      <td>2</td>\n",
       "      <td>¿Cuánto tiempo lleva cocinar el arroz blanco?</td>\n",
       "      <td>1</td>\n",
       "    </tr>\n",
       "    <tr>\n",
       "      <th>3</th>\n",
       "      <td>3</td>\n",
       "      <td>¿Se necesita algún utensilio especial para hac...</td>\n",
       "      <td>1</td>\n",
       "    </tr>\n",
       "    <tr>\n",
       "      <th>4</th>\n",
       "      <td>4</td>\n",
       "      <td>¿Es necesario lavar el arroz antes de cocinarlo?</td>\n",
       "      <td>1</td>\n",
       "    </tr>\n",
       "    <tr>\n",
       "      <th>...</th>\n",
       "      <td>...</td>\n",
       "      <td>...</td>\n",
       "      <td>...</td>\n",
       "    </tr>\n",
       "    <tr>\n",
       "      <th>360</th>\n",
       "      <td>360</td>\n",
       "      <td>¿Cuál es tu rincón favorito de tu casa?</td>\n",
       "      <td>0</td>\n",
       "    </tr>\n",
       "    <tr>\n",
       "      <th>361</th>\n",
       "      <td>361</td>\n",
       "      <td>¿Te gusta cambiar la decoración de tu casa o p...</td>\n",
       "      <td>0</td>\n",
       "    </tr>\n",
       "    <tr>\n",
       "      <th>362</th>\n",
       "      <td>362</td>\n",
       "      <td>¿Cuál es tu lugar turístico favorito en tu paí...</td>\n",
       "      <td>0</td>\n",
       "    </tr>\n",
       "    <tr>\n",
       "      <th>363</th>\n",
       "      <td>363</td>\n",
       "      <td>¿Cómo es tu relación con tu familia?</td>\n",
       "      <td>0</td>\n",
       "    </tr>\n",
       "    <tr>\n",
       "      <th>364</th>\n",
       "      <td>364</td>\n",
       "      <td>¿Qué te hace sentir más agradecido en la vida?</td>\n",
       "      <td>0</td>\n",
       "    </tr>\n",
       "  </tbody>\n",
       "</table>\n",
       "<p>365 rows × 3 columns</p>\n",
       "</div>"
      ],
      "text/plain": [
       "     Unnamed: 0                                               text  label\n",
       "0             0  ¿Qué tipo de arroz se necesita para hacer arro...      1\n",
       "1             1  ¿Cómo se mide el arroz y el agua para hacer ar...      1\n",
       "2             2      ¿Cuánto tiempo lleva cocinar el arroz blanco?      1\n",
       "3             3  ¿Se necesita algún utensilio especial para hac...      1\n",
       "4             4   ¿Es necesario lavar el arroz antes de cocinarlo?      1\n",
       "..          ...                                                ...    ...\n",
       "360         360            ¿Cuál es tu rincón favorito de tu casa?      0\n",
       "361         361  ¿Te gusta cambiar la decoración de tu casa o p...      0\n",
       "362         362  ¿Cuál es tu lugar turístico favorito en tu paí...      0\n",
       "363         363               ¿Cómo es tu relación con tu familia?      0\n",
       "364         364     ¿Qué te hace sentir más agradecido en la vida?      0\n",
       "\n",
       "[365 rows x 3 columns]"
      ]
     },
     "execution_count": 5,
     "metadata": {},
     "output_type": "execute_result"
    }
   ],
   "source": [
    "df = pd.read_csv(\"Data/last-cook.csv\")\n",
    "df_cook = pd.read_csv(\"Data/intents_cook.csv\")\n",
    "df_cook_others = pd.read_csv('Data/intents_cook_others.csv')\n",
    "\n",
    "print(\"Processing the Intents.....\")\n",
    "with open('Data/intents.json') as json_data:\n",
    "    intents = json.load(json_data)\n",
    "\n",
    "df_cook_others[\"label\"] = df_cook_others.label.map({ 'cook': 1, 'others': 0})\n",
    "df_cook[\"label\"] = df_cook.label.map({ 'title': 2, 'instructions': 1, 'title_instructions': 0})\n",
    "df_cook_others"
   ]
  },
  {
   "cell_type": "code",
   "execution_count": 6,
   "id": "2d97ff2a",
   "metadata": {},
   "outputs": [],
   "source": [
    "# from sklearn.metrics import accuracy_score, precision_score, recall_score, f1_score\n",
    "# print('Accuracy score: ', format(accuracy_score(y_test, predictions)))\n",
    "# print('Precision score: ', format(precision_score(y_test, predictions)))\n",
    "# print('Recall score: ', format(recall_score(y_test, predictions)))\n",
    "# print('F1 score: ', format(f1_score(y_test, predictions)))"
   ]
  },
  {
   "cell_type": "code",
   "execution_count": 7,
   "id": "bf3848f1",
   "metadata": {},
   "outputs": [],
   "source": [
    "def cook_others(text):\n",
    "    # Dividir el conjunto de datos de entrenamiento y test\n",
    "    X_train, X_test, y_train, y_test = train_test_split(df_cook_others['text'], df_cook_others['label'], random_state=1)\n",
    "    \n",
    "    # Instantiate the CountVectorizer method\n",
    "    count_vector = CountVectorizer()\n",
    "    # Fit the training data and then return the matrix\n",
    "    training_data = count_vector.fit_transform(X_train)\n",
    "    # Transform testing data and return the matrix. Note we are not fitting the testing data into the CountVectorizer()\n",
    "    testing_data = count_vector.transform(X_test)\n",
    "    text_data = count_vector.transform([text])\n",
    "\n",
    "    naive_bayes = MultinomialNB()\n",
    "    naive_bayes.fit(training_data, y_train)\n",
    "    \n",
    "    return naive_bayes.predict(text_data)"
   ]
  },
  {
   "cell_type": "code",
   "execution_count": 8,
   "id": "d88c2dfe",
   "metadata": {},
   "outputs": [],
   "source": [
    "def cook(text):\n",
    "    # Dividir el conjunto de datos de entrenamiento y test\n",
    "    X_train, X_test, y_train, y_test = train_test_split(df_cook['text'], df_cook['label'], random_state=1)\n",
    "    \n",
    "    # Instantiate the CountVectorizer method\n",
    "    count_vector = CountVectorizer()\n",
    "    # Fit the training data and then return the matrix\n",
    "    training_data = count_vector.fit_transform(X_train)\n",
    "    # Transform testing data and return the matrix. Note we are not fitting the testing data into the CountVectorizer()\n",
    "    testing_data = count_vector.transform(X_test)\n",
    "    text_data = count_vector.transform([text])\n",
    "\n",
    "    naive_bayes = MultinomialNB()\n",
    "    naive_bayes.fit(training_data, y_train)\n",
    "    \n",
    "    return naive_bayes.predict(text_data)"
   ]
  },
  {
   "cell_type": "code",
   "execution_count": 9,
   "id": "16358cd4",
   "metadata": {},
   "outputs": [],
   "source": [
    "def others(text):\n",
    "    x = []\n",
    "    y_train = []\n",
    "    for i in range(4):\n",
    "    #     print(intents[\"intents\"][i])\n",
    "        label = intents[\"intents\"][i][\"tag\"]\n",
    "        for j in intents[\"intents\"][i][\"patterns\"]:\n",
    "            x.append(j)\n",
    "            y_train.append(label)\n",
    "            \n",
    "    # Instantiate the CountVectorizer method\n",
    "    count_vector = CountVectorizer()\n",
    "    # Fit the training data and then return the matrix\n",
    "    training_data = count_vector.fit_transform(x)\n",
    "    text_data = count_vector.transform([text])\n",
    "\n",
    "    naive_bayes = MultinomialNB()\n",
    "    naive_bayes.fit(training_data, y_train)\n",
    "    \n",
    "    return naive_bayes.predict(text_data)"
   ]
  },
  {
   "cell_type": "code",
   "execution_count": 10,
   "id": "3951c38d",
   "metadata": {},
   "outputs": [],
   "source": [
    "def search(text, first, second):\n",
    "    ma = -1000000\n",
    "    sol = \"\"\n",
    "    doc = nlp(text)\n",
    "    for i in range(df.shape[0]):\n",
    "        text = df[first][i]\n",
    "        text = str(text) \n",
    "        text = nlp(text)\n",
    "        value = doc.similarity(text)\n",
    "        if (value > ma):\n",
    "            ma = value\n",
    "            sol = df[second][i]\n",
    "    return sol\n",
    "        \n",
    "def response_others(tag):\n",
    "    for i in range(4):\n",
    "    #     print(intents[\"intents\"][i])\n",
    "        label = intents[\"intents\"][i][\"tag\"]\n",
    "        if label == tag:\n",
    "            rand = int(random.uniform(0,len(intents[\"intents\"][i][\"responses\"])))\n",
    "            print(rand)\n",
    "            return intents[\"intents\"][i][\"responses\"][rand]"
   ]
  },
  {
   "cell_type": "code",
   "execution_count": 11,
   "id": "c4385a78",
   "metadata": {},
   "outputs": [
    {
     "name": "stdout",
     "output_type": "stream",
     "text": [
      "Cook\n"
     ]
    },
    {
     "data": {
      "text/plain": [
       "'En una cacerola pequeña, combina el azúcar con 1/2 taza de agua y hierve la mezcla a fuego lento durante 5 minutos, o hasta que el azúcar se disuelva. Deje que el jarabe de azúcar se enfríe completamente. En un procesador de alimentos, haga un puré de las fresas con su jarabe y el zumo de lima, transfiera la mezcla a una ponchera grande, pasándola por un colador fino si lo desea, y añada el jarabe de azúcar, el brandy y la soda. Enfríe la mezcla, tapada, hasta que esté fría. Añada el champán poco a poco justo antes de servir y sirva el ponche en vasos para ponche, cada uno de ellos adornado con una rodaja de fresa y otra de lima.En una cacerola pequeña, combine el azúcar con 1/2 taza de agua y hierva la mezcla a fuego lento durante 5 minutos, o hasta que el azúcar se disuelva. Deje que el jarabe de azúcar se enfríe por completo. En un procesador de alimentos, haga un puré de las fresas con su jarabe y el zumo de lima, transfiera la mezcla a una ponchera grande, pasándola por un colador fino si lo desea, y añada el jarabe de azúcar, el brandy y la soda. Enfríe la mezcla, tapada, hasta que esté fría. Añada el champán poco a poco justo antes de servir y sirva el ponche en vasos para ponche, cada uno de ellos adornado con una rodaja de fresa y una rodaja de lima.'"
      ]
     },
     "execution_count": 11,
     "metadata": {},
     "output_type": "execute_result"
    }
   ],
   "source": [
    "def get_response(text):\n",
    "    firstIntent = cook_others(text)[0]\n",
    "    if firstIntent == 0:\n",
    "        intentOthers = others(text)[0]\n",
    "        return response_others(intentOthers)\n",
    "    else:\n",
    "        cook_intents = cook(text)\n",
    "        print(\"Cook\")\n",
    "        if cook_intents == 1:\n",
    "            return search(text, \"ingredients\", \"instructions\")\n",
    "\n",
    "        if cook_intents == 2:\n",
    "            return search(text, \"ingredients\", \"title\")\n",
    "\n",
    "        if cook_intents == 0:\n",
    "            return search(text, \"title\", \"instructions\")\n",
    "    return firstIntent\n",
    "\n",
    "get_response(\"hola me podrias decir qué tipo de arroz se necesita para hacer arroz.\")"
   ]
  },
  {
   "cell_type": "code",
   "execution_count": null,
   "id": "497f6ac2",
   "metadata": {},
   "outputs": [],
   "source": []
  },
  {
   "cell_type": "code",
   "execution_count": null,
   "id": "d2e0849b",
   "metadata": {},
   "outputs": [],
   "source": []
  }
 ],
 "metadata": {
  "kernelspec": {
   "display_name": "Python 3",
   "language": "python",
   "name": "python3"
  },
  "language_info": {
   "codemirror_mode": {
    "name": "ipython",
    "version": 3
   },
   "file_extension": ".py",
   "mimetype": "text/x-python",
   "name": "python",
   "nbconvert_exporter": "python",
   "pygments_lexer": "ipython3",
   "version": "3.8.8"
  },
  "vscode": {
   "interpreter": {
    "hash": "ab3c9598846bb01a90bc4fb3fb70919349b21f3aac0df0f83a83137ce8a42a56"
   }
  }
 },
 "nbformat": 4,
 "nbformat_minor": 5
}
